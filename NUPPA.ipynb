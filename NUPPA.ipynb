{
 "cells": [
  {
   "cell_type": "code",
   "execution_count": null,
   "id": "63dd68a5",
   "metadata": {},
   "outputs": [],
   "source": [
    "# Importando bibliotecas\n",
    "import datetime as dt\n",
    "import numpy as np\n",
    "import pandas as pd\n",
    "pd.set_option(\"display.max_rows\", None)"
   ]
  },
  {
   "cell_type": "code",
   "execution_count": null,
   "id": "e4669102",
   "metadata": {},
   "outputs": [],
   "source": [
    "# Armazenando os dados da tabela csv em um DataFrame pandas\n",
    "folhosas = pd.read_csv('Folhosas.csv')\n",
    "folhosas.head()"
   ]
  },
  {
   "cell_type": "code",
   "execution_count": null,
   "id": "d92b31c6",
   "metadata": {},
   "outputs": [],
   "source": [
    "# Split de dados em dois DataFrames (Mogi e Ibiuna)\n",
    "folhosas_mogi = folhosas[folhosas['Região'] == \"Mogi das Cruzes\"]\n",
    "folhosas_mogi.head()"
   ]
  },
  {
   "cell_type": "code",
   "execution_count": null,
   "id": "2b66a94a",
   "metadata": {},
   "outputs": [],
   "source": [
    "# Split de dados em dois DataFrames (Mogi e Ibiuna)\n",
    "folhosas_ibiuna = folhosas[folhosas['Região'] == \"Ibiúna\"]\n",
    "folhosas_ibiuna.head()"
   ]
  },
  {
   "cell_type": "code",
   "execution_count": null,
   "id": "e8cb4086",
   "metadata": {},
   "outputs": [],
   "source": [
    "# Armazenando os dados meteorologicos da tabela csv em um DataFrame pandas\n",
    "inmet_sp = pd.read_csv('INMET\\\\SP_2013_2023.csv')\n",
    "inmet_sp.head()"
   ]
  },
  {
   "cell_type": "code",
   "execution_count": null,
   "id": "43db0ac9",
   "metadata": {},
   "outputs": [],
   "source": [
    "# Armazenando os dados meteorologicos da tabela csv em um DataFrame pandas\n",
    "inmet_sorocaba = pd.read_csv('INMET\\\\SOROCABA_2013_2023.csv')\n",
    "inmet_sorocaba.head()"
   ]
  },
  {
   "cell_type": "code",
   "execution_count": null,
   "id": "b50d4d1e",
   "metadata": {},
   "outputs": [],
   "source": [
    "# Limpeza de Outliers\n",
    "inmet_sp = inmet_sp[(inmet_sp != -9999).all(axis=1)]\n",
    "inmet_sp.loc[inmet_sp.eq(-9999).any(axis=1)]"
   ]
  },
  {
   "cell_type": "code",
   "execution_count": null,
   "id": "cc68c233",
   "metadata": {},
   "outputs": [],
   "source": [
    "# Limpeza de Outliers\n",
    "inmet_sorocaba = inmet_sorocaba[(inmet_sorocaba != -9999).all(axis=1)]\n",
    "inmet_sorocaba.loc[inmet_sorocaba.eq(-9999).any(axis=1)]    "
   ]
  },
  {
   "cell_type": "code",
   "execution_count": null,
   "id": "38eb21a2",
   "metadata": {},
   "outputs": [],
   "source": [
    "# Agrupando dados por Data para descobrir a média diária de cada coluna\n",
    "inmet_sp = inmet_sp.groupby(['Data']).mean()\n",
    "\n",
    "# Resetando index para que a coluna Data não seja utilizada como tal\n",
    "inmet_sp.reset_index(inplace=True)"
   ]
  },
  {
   "cell_type": "code",
   "execution_count": null,
   "id": "f961369b",
   "metadata": {},
   "outputs": [],
   "source": [
    "# Extraindo datas de catálogo de produtos em folhosas mogi\n",
    "datas_mogi = folhosas_mogi['Data'].unique()\n",
    "\n",
    "# Encontrando a data anterior a uma semana do primeiro produto\n",
    "primeira_data = pd.Timestamp(datas_mogi[0]) - dt.timedelta(days=7)\n",
    "\n",
    "# Adicionando a primeira data as datas descobertas anteriormente\n",
    "datas_mogi = pd.Series(datas_mogi)\n",
    "datas_mogi = pd.concat([pd.Series([primeira_data]), datas_mogi], ignore_index=True)\n",
    "\n",
    "# Convertendo tipo de dados\n",
    "inmet_sp['Data'] = pd.to_datetime(inmet_sp['Data'])"
   ]
  },
  {
   "cell_type": "code",
   "execution_count": null,
   "id": "24fb01dd",
   "metadata": {},
   "outputs": [],
   "source": [
    "# Criando um DataFrame para armazenar os dados do inmet_sp agrupados(+média) pelos intervalos das datas de catálogo em mogi\n",
    "inmet_folhosas_mogi = pd.DataFrame()\n",
    "\n",
    "# Foreach para percorrer as datas identificadas e realizar os processamentos de dados\n",
    "for i in range(len(datas_mogi) - 1):\n",
    "    intervalo_datas_mogi = inmet_sp[(inmet_sp['Data'] >= datas_mogi[i]) & (inmet_sp['Data'] <= datas_mogi[i+1])]\n",
    "\n",
    "    pivot_mogi = intervalo_datas_mogi[['Média Precipitação Total (mm)', 'Média Pressão Atmosférica (mB)', 'Média Temperatura do Ar (°C)', 'Média Umidade Relativa do Ar (%)', 'Média Vento Velocidade (m/s)']].mean()\n",
    "    \n",
    "    pivot_mogi['Data'] = datas_mogi[i+1]\n",
    "    \n",
    "    inmet_folhosas_mogi = inmet_folhosas_mogi.append(pivot_mogi, ignore_index=True)\n",
    "\n",
    "inmet_folhosas_mogi.head(10)\n"
   ]
  },
  {
   "cell_type": "code",
   "execution_count": null,
   "id": "7e7f220b",
   "metadata": {},
   "outputs": [],
   "source": [
    "# Gerando um novo DataFrame a partir da junção dos dados de produtos e dados meteorológicos históricos de mogi\n",
    "folhosas_inmet_mogi = pd.merge(folhosas_mogi,inmet_folhosas_mogi)\n",
    "folhosas_inmet_mogi.head(10)"
   ]
  },
  {
   "cell_type": "code",
   "execution_count": null,
   "id": "c862cd10",
   "metadata": {},
   "outputs": [],
   "source": [
    "# Formatação de colunas (arredondamento de casas decimais)\n",
    "folhosas_inmet_mogi['Média Precipitação Total (mm)'] = folhosas_inmet_mogi['Média Precipitação Total (mm)'].round(4)\n",
    "folhosas_inmet_mogi['Média Pressão Atmosférica (mB)'] = folhosas_inmet_mogi['Média Pressão Atmosférica (mB)'].round(3)\n",
    "folhosas_inmet_mogi['Média Temperatura do Ar (°C)'] = folhosas_inmet_mogi['Média Temperatura do Ar (°C)'].round(2)\n",
    "folhosas_inmet_mogi['Média Umidade Relativa do Ar (%)'] = folhosas_inmet_mogi['Média Umidade Relativa do Ar (%)'].round(2)\n",
    "folhosas_inmet_mogi['Média Vento Velocidade (m/s)'] = folhosas_inmet_mogi['Média Vento Velocidade (m/s)'].round(2)\n",
    "\n",
    "folhosas_inmet_mogi['Média Umidade Relativa do Ar (%)'] = folhosas_inmet_mogi['Média Umidade Relativa do Ar (%)'].astype(str) + '%'\n",
    "\n",
    "folhosas_inmet_mogi.head()"
   ]
  },
  {
   "cell_type": "code",
   "execution_count": null,
   "id": "ac6f9524",
   "metadata": {},
   "outputs": [],
   "source": [
    "inmet = nuppa_inmet.loc[:, 'Data':'Média Vento Velocidade (m/s)']\n",
    "inmet.to_csv('INMET_SP_2022_2023_filtered.csv', index = 0)"
   ]
  }
 ],
 "metadata": {
  "kernelspec": {
   "display_name": "Python 3 (ipykernel)",
   "language": "python",
   "name": "python3"
  },
  "language_info": {
   "codemirror_mode": {
    "name": "ipython",
    "version": 3
   },
   "file_extension": ".py",
   "mimetype": "text/x-python",
   "name": "python",
   "nbconvert_exporter": "python",
   "pygments_lexer": "ipython3",
   "version": "3.10.9"
  }
 },
 "nbformat": 4,
 "nbformat_minor": 5
}
